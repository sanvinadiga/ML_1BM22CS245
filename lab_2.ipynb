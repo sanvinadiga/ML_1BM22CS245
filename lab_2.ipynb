{
  "nbformat": 4,
  "nbformat_minor": 0,
  "metadata": {
    "colab": {
      "provenance": []
    },
    "kernelspec": {
      "name": "python3",
      "display_name": "Python 3"
    },
    "language_info": {
      "name": "python"
    }
  },
  "cells": [
    {
      "cell_type": "code",
      "execution_count": null,
      "metadata": {
        "colab": {
          "base_uri": "https://localhost:8080/"
        },
        "id": "shA1iKgx-5Sx",
        "outputId": "6fc3dcb9-4dce-4f66-e3be-0f37ba919759"
      },
      "outputs": [
        {
          "output_type": "execute_result",
          "data": {
            "text/plain": [
              "{'outlook': {'sunny': {'humidity': {'high': 'no', 'normal': 'yes'}},\n",
              "  'overcast': 'yes',\n",
              "  'rainy': {'wind': {'weak': 'yes', 'strong': 'no'}}}}"
            ]
          },
          "metadata": {},
          "execution_count": 1
        }
      ],
      "source": [
        "# prompt: given a dataset create a id3\n",
        "\n",
        "import pandas as pd\n",
        "from collections import Counter\n",
        "\n",
        "def entropy(data):\n",
        "    labels = data['label'].tolist()0\n",
        "    counts = Counter(labels)\n",
        "    probabilities = [count / len(labels) for count in counts.values()]\n",
        "    entropy_value = -sum(p * math.log2(p) for p in probabilities if p > 0)  # Handle probabilities of 0\n",
        "    return entropy_value\n",
        "\n",
        "def gain(data, feature):\n",
        "    initial_entropy = entropy(data)\n",
        "    feature_values = data[feature].unique()\n",
        "    weighted_entropy = 0\n",
        "    for value in feature_values:\n",
        "        subset = data[data[feature] == value]\n",
        "        weighted_entropy += (len(subset) / len(data)) * entropy(subset)\n",
        "    return initial_entropy - weighted_entropy\n",
        "\n",
        "def id3(data, features, target_attribute):\n",
        "    # Check if all examples have the same label\n",
        "    if len(data['label'].unique()) == 1:\n",
        "        return data['label'].iloc[0]\n",
        "\n",
        "    # Check if features is empty\n",
        "    if len(features) == 0:\n",
        "      return data['label'].value_counts().index[0]  # Return the most common label\n",
        "\n",
        "    best_feature = max(features, key=lambda feature: gain(data, feature))\n",
        "    tree = {best_feature: {}}\n",
        "    features = [f for f in features if f != best_feature]\n",
        "\n",
        "    for value in data[best_feature].unique():\n",
        "        subset = data[data[best_feature] == value].drop(columns=[best_feature])\n",
        "        if len(subset) == 0:\n",
        "            tree[best_feature][value] = data['label'].value_counts().index[0]  # Handle empty subsets\n",
        "        else:\n",
        "            tree[best_feature][value] = id3(subset, features, target_attribute)\n",
        "\n",
        "    return tree\n",
        "\n",
        "import math\n",
        "# Sample dataset\n",
        "data = {'outlook': ['sunny', 'sunny', 'overcast', 'rainy', 'rainy', 'rainy', 'overcast', 'sunny', 'sunny', 'rainy', 'sunny', 'overcast', 'overcast', 'rainy'],\n",
        "        'temperature': ['hot', 'hot', 'hot', 'mild', 'cool', 'cool', 'cool', 'mild', 'cool', 'mild', 'mild', 'mild', 'hot', 'mild'],\n",
        "        'humidity': ['high', 'high', 'high', 'high', 'normal', 'normal', 'normal', 'high', 'normal', 'normal', 'normal', 'high', 'normal', 'high'],\n",
        "        'wind': ['weak', 'strong', 'weak', 'weak', 'weak', 'strong', 'strong', 'weak', 'weak', 'weak', 'strong', 'strong', 'weak', 'strong'],\n",
        "        'label': ['no', 'no', 'yes', 'yes', 'yes', 'no', 'yes', 'no', 'yes', 'yes', 'yes', 'yes', 'yes', 'no']}\n",
        "\n",
        "df = pd.DataFrame(data)\n",
        "\n",
        "# Features and target attribute\n",
        "features = ['outlook', 'temperature', 'humidity', 'wind']\n",
        "target_attribute = 'label'\n",
        "\n",
        "# Create the ID3 decision tree\n",
        "decision_tree = id3(df, features, target_attribute)\n",
        "\n",
        "# Print the decision tree\n",
        "decision_tree"
      ]
    }
  ]
}